{
 "cells": [
  {
   "cell_type": "markdown",
   "id": "860082aa",
   "metadata": {},
   "source": [
    "# Final Project Part 2:"
   ]
  },
  {
   "cell_type": "markdown",
   "id": "2515b9ea",
   "metadata": {},
   "source": [
    "## Ruixin's stuff "
   ]
  },
  {
   "cell_type": "code",
   "execution_count": 1,
   "id": "cea03ee2",
   "metadata": {},
   "outputs": [],
   "source": [
    "p1 = read_ipynb('han_ruixin_final_project_part2.ipynb')\n",
    "p2 = read_ipynb('Nair - Trishla Final Project-Part2.ipynb')"
   ]
  },
  {
   "cell_type": "code",
   "execution_count": 3,
   "id": "fdf1b693",
   "metadata": {},
   "outputs": [
    {
     "ename": "SyntaxError",
     "evalue": "invalid syntax (1025483831.py, line 1)",
     "output_type": "error",
     "traceback": [
      "\u001b[1;36m  File \u001b[1;32m\"C:\\Users\\Trish\\AppData\\Local\\Temp\\ipykernel_11476\\1025483831.py\"\u001b[1;36m, line \u001b[1;32m1\u001b[0m\n\u001b[1;33m    nbmerge han_ruixin_final_project_part2.ipynb Nair - Trishla Final Project-Part2 Nair-Trishla- Altair_Visual_FP_2 > merged.ipynb\u001b[0m\n\u001b[1;37m                                         ^\u001b[0m\n\u001b[1;31mSyntaxError\u001b[0m\u001b[1;31m:\u001b[0m invalid syntax\n"
     ]
    }
   ],
   "source": [
    "nbmerge han_ruixin_final_project_part2.ipynb Nair - Trishla Final Project-Part2 Nair-Trishla- Altair_Visual_FP_2 > merged.ipynb"
   ]
  },
  {
   "cell_type": "code",
   "execution_count": null,
   "id": "2ea7f3fd",
   "metadata": {},
   "outputs": [],
   "source": []
  },
  {
   "cell_type": "code",
   "execution_count": null,
   "id": "692f3c30",
   "metadata": {},
   "outputs": [],
   "source": []
  },
  {
   "cell_type": "code",
   "execution_count": null,
   "id": "b6094798",
   "metadata": {},
   "outputs": [],
   "source": []
  },
  {
   "cell_type": "code",
   "execution_count": null,
   "id": "52e1594a",
   "metadata": {},
   "outputs": [],
   "source": []
  },
  {
   "cell_type": "code",
   "execution_count": null,
   "id": "bf859e21",
   "metadata": {},
   "outputs": [],
   "source": []
  },
  {
   "cell_type": "code",
   "execution_count": null,
   "id": "80b7dcf2",
   "metadata": {},
   "outputs": [],
   "source": []
  },
  {
   "cell_type": "code",
   "execution_count": null,
   "id": "59670963",
   "metadata": {},
   "outputs": [],
   "source": []
  },
  {
   "cell_type": "code",
   "execution_count": null,
   "id": "2f0182bf",
   "metadata": {},
   "outputs": [],
   "source": []
  },
  {
   "cell_type": "code",
   "execution_count": null,
   "id": "020c9d6a",
   "metadata": {},
   "outputs": [],
   "source": []
  },
  {
   "cell_type": "code",
   "execution_count": null,
   "id": "b34dee94",
   "metadata": {},
   "outputs": [],
   "source": []
  },
  {
   "cell_type": "markdown",
   "id": "0ce98693",
   "metadata": {},
   "source": [
    "## Trishla's stuff "
   ]
  },
  {
   "cell_type": "markdown",
   "id": "01b77d94",
   "metadata": {},
   "source": [
    "## Final Visual "
   ]
  },
  {
   "cell_type": "code",
   "execution_count": null,
   "id": "6a737502",
   "metadata": {},
   "outputs": [],
   "source": []
  }
 ],
 "metadata": {
  "kernelspec": {
   "display_name": "Python 3 (ipykernel)",
   "language": "python",
   "name": "python3"
  },
  "language_info": {
   "codemirror_mode": {
    "name": "ipython",
    "version": 3
   },
   "file_extension": ".py",
   "mimetype": "text/x-python",
   "name": "python",
   "nbconvert_exporter": "python",
   "pygments_lexer": "ipython3",
   "version": "3.7.12"
  }
 },
 "nbformat": 4,
 "nbformat_minor": 5
}
